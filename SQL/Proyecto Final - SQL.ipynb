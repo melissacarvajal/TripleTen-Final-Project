{
 "cells": [
  {
   "cell_type": "markdown",
   "id": "c8df53c6",
   "metadata": {},
   "source": [
    "# Proyecto Final, tarea SQL\n",
    "\n",
    "## Introducción\n",
    "\n",
    "El coronavirus tomó al mundo entero por sorpresa, cambiando la rutina diaria de todos y todas. Los habitantes de las ciudades ya no pasaban su tiempo libre fuera, yendo a cafés y centros comerciales; sino que más gente se quedaba en casa, leyendo libros. Eso atrajo la atención de las startups (empresas emergentes) que se apresuraron a desarrollar nuevas aplicaciones para los amantes de los libros.\n",
    "\n",
    "Tenemos una base de datos de uno de los servicios que compiten en este mercado. Contiene datos sobre libros, editoriales, autores y calificaciones de clientes y reseñas de libros. Esta información se utilizará para generar una propuesta de valor para un nuevo producto.\n",
    "\n",
    "Vamos a encontrar lo siguiente:\n",
    "- Número de libros publicados después del 1 de enero de 2000.\n",
    "- Número de reseñas de usuarios y la calificación promedio para cada libro.\n",
    "- La editorial que ha publicado el mayor número de libros con más de 50 páginas (excluir folletos y similares).\n",
    "- Autor que tiene la más alta calificación promedio del libro. Miraremos solo los libros con al menos 50 calificaciones.\n",
    "- Número promedio de reseñas de texto entre los usuarios que calificaron más de 50 libros.\n",
    "\n",
    "Al final de este cuaderno, incluiremos conclusiones a partir de nuestros hallazgos para una propuesta de valor.\n",
    "\n",
    "**Descripción de los datos**\n",
    "\n",
    "Tabla `**books**` contiene datos sobre libros:\n",
    "\n",
    "    - `book_id`: identificación del libro\n",
    "    - `author_id`: identificación del autor o autora\n",
    "    - `title`: título\n",
    "    - `num_pages`: número de páginas\n",
    "    - `publication_date`: fecha de la publicación\n",
    "    - `publisher_id`: identificación de la editorial\n",
    "\n",
    "Tabla `**authors**` contiene datos sobre autores:\n",
    "\n",
    "    - `author_id`: identificación del autor o autora\n",
    "    - `author`: el autor o la autora\n",
    "\n",
    "Tabla `**publishers**` contiene datos sobre editoriales:\n",
    "\n",
    "    - `publisher_id`: identificación de la editorial\n",
    "    - `publisher`: la editorial\n",
    "\n",
    "Tabla `**ratings**` contiene datos sobre las calificaciones de usuarios:\n",
    "\n",
    "    - `rating_id`: identificación de la calificación\n",
    "    - `book_id`: identificación del libro\n",
    "    - `username`: el nombre del usuario que revisó el libro\n",
    "    - `rating`: calificación\n",
    "\n",
    "Tabla `**reviews**` contiene datos sobre las reseñas de los y las clientes:\n",
    "\n",
    "    - `review_id`: identificación de la reseña\n",
    "    - `book_id`: identificación del libro\n",
    "    - `username`: el nombre del usuario que revisó el libro\n",
    "    - `text`: el texto de la reseña\n",
    "\n"
   ]
  },
  {
   "cell_type": "markdown",
   "id": "0e6bb6e0",
   "metadata": {},
   "source": [
    "## Descargar Paquetes y Librerías"
   ]
  },
  {
   "cell_type": "code",
   "execution_count": 15,
   "id": "e4db2674",
   "metadata": {},
   "outputs": [
    {
     "data": {
      "text/plain": [
       "'practicum_student'"
      ]
     },
     "execution_count": 15,
     "metadata": {},
     "output_type": "execute_result"
    }
   ],
   "source": [
    "import pandas as pd\n",
    "from sqlalchemy import create_engine\n",
    "\n",
    "import dotenv\n",
    "dotenv.load_dotenv()\n",
    "\n",
    "import os\n",
    "\n",
    "os.getenv('user')"
   ]
  },
  {
   "cell_type": "markdown",
   "id": "58902762",
   "metadata": {},
   "source": [
    "## Conectarse a la Base de Datos"
   ]
  },
  {
   "cell_type": "code",
   "execution_count": 16,
   "id": "315cba8c",
   "metadata": {},
   "outputs": [],
   "source": [
    "db_config = {'user': os.getenv('user') ,                             # nombre de usuario\n",
    "             'pwd': os.getenv('pwd'),                       # contraseña\n",
    "             'host': os.getenv('host'),\n",
    "             'port': os.getenv('port'),                                            # puerto de conexión\n",
    "             'db': os.getenv('db')                    # nombre de la base de datos\n",
    "            }          \n",
    "\n",
    "connection_string = 'postgresql://{}:{}@{}:{}/{}'.format(db_config['user'],\n",
    "                                                         db_config['pwd'],\n",
    "                                                         db_config['host'],\n",
    "                                                         db_config['port'],\n",
    "                                                         db_config['db']\n",
    "                                                        )\n",
    "\n",
    "engine = create_engine(connection_string, connect_args={'sslmode':'require'})"
   ]
  },
  {
   "cell_type": "markdown",
   "id": "34f0c30c",
   "metadata": {},
   "source": [
    "## Estudio de las tablas\n",
    "\n",
    "Vamos a observar cada tabla y sus primeras filas, y entender la relacion entre ellas. "
   ]
  },
  {
   "cell_type": "code",
   "execution_count": 17,
   "id": "211d2425",
   "metadata": {},
   "outputs": [
    {
     "data": {
      "text/html": [
       "<div>\n",
       "<style scoped>\n",
       "    .dataframe tbody tr th:only-of-type {\n",
       "        vertical-align: middle;\n",
       "    }\n",
       "\n",
       "    .dataframe tbody tr th {\n",
       "        vertical-align: top;\n",
       "    }\n",
       "\n",
       "    .dataframe thead th {\n",
       "        text-align: right;\n",
       "    }\n",
       "</style>\n",
       "<table border=\"1\" class=\"dataframe\">\n",
       "  <thead>\n",
       "    <tr style=\"text-align: right;\">\n",
       "      <th></th>\n",
       "      <th>author_id</th>\n",
       "      <th>author</th>\n",
       "    </tr>\n",
       "  </thead>\n",
       "  <tbody>\n",
       "    <tr>\n",
       "      <th>0</th>\n",
       "      <td>1</td>\n",
       "      <td>A.S. Byatt</td>\n",
       "    </tr>\n",
       "    <tr>\n",
       "      <th>1</th>\n",
       "      <td>2</td>\n",
       "      <td>Aesop/Laura Harris/Laura Gibbs</td>\n",
       "    </tr>\n",
       "    <tr>\n",
       "      <th>2</th>\n",
       "      <td>3</td>\n",
       "      <td>Agatha Christie</td>\n",
       "    </tr>\n",
       "    <tr>\n",
       "      <th>3</th>\n",
       "      <td>4</td>\n",
       "      <td>Alan Brennert</td>\n",
       "    </tr>\n",
       "    <tr>\n",
       "      <th>4</th>\n",
       "      <td>5</td>\n",
       "      <td>Alan Moore/David   Lloyd</td>\n",
       "    </tr>\n",
       "  </tbody>\n",
       "</table>\n",
       "</div>"
      ],
      "text/plain": [
       "   author_id                          author\n",
       "0          1                      A.S. Byatt\n",
       "1          2  Aesop/Laura Harris/Laura Gibbs\n",
       "2          3                 Agatha Christie\n",
       "3          4                   Alan Brennert\n",
       "4          5        Alan Moore/David   Lloyd"
      ]
     },
     "execution_count": 17,
     "metadata": {},
     "output_type": "execute_result"
    }
   ],
   "source": [
    "# imprime las primeras filas de la tabla books\n",
    "\n",
    "query_1 = 'SELECT * FROM authors'\n",
    "books_df = pd.io.sql.read_sql(query_1, con = engine)\n",
    "books_df.head(5)"
   ]
  },
  {
   "cell_type": "code",
   "execution_count": 5,
   "id": "6c5b4e52",
   "metadata": {},
   "outputs": [
    {
     "data": {
      "text/html": [
       "<div>\n",
       "<style scoped>\n",
       "    .dataframe tbody tr th:only-of-type {\n",
       "        vertical-align: middle;\n",
       "    }\n",
       "\n",
       "    .dataframe tbody tr th {\n",
       "        vertical-align: top;\n",
       "    }\n",
       "\n",
       "    .dataframe thead th {\n",
       "        text-align: right;\n",
       "    }\n",
       "</style>\n",
       "<table border=\"1\" class=\"dataframe\">\n",
       "  <thead>\n",
       "    <tr style=\"text-align: right;\">\n",
       "      <th></th>\n",
       "      <th>author_id</th>\n",
       "      <th>author</th>\n",
       "    </tr>\n",
       "  </thead>\n",
       "  <tbody>\n",
       "    <tr>\n",
       "      <th>0</th>\n",
       "      <td>1</td>\n",
       "      <td>A.S. Byatt</td>\n",
       "    </tr>\n",
       "    <tr>\n",
       "      <th>1</th>\n",
       "      <td>2</td>\n",
       "      <td>Aesop/Laura Harris/Laura Gibbs</td>\n",
       "    </tr>\n",
       "    <tr>\n",
       "      <th>2</th>\n",
       "      <td>3</td>\n",
       "      <td>Agatha Christie</td>\n",
       "    </tr>\n",
       "    <tr>\n",
       "      <th>3</th>\n",
       "      <td>4</td>\n",
       "      <td>Alan Brennert</td>\n",
       "    </tr>\n",
       "    <tr>\n",
       "      <th>4</th>\n",
       "      <td>5</td>\n",
       "      <td>Alan Moore/David   Lloyd</td>\n",
       "    </tr>\n",
       "  </tbody>\n",
       "</table>\n",
       "</div>"
      ],
      "text/plain": [
       "   author_id                          author\n",
       "0          1                      A.S. Byatt\n",
       "1          2  Aesop/Laura Harris/Laura Gibbs\n",
       "2          3                 Agatha Christie\n",
       "3          4                   Alan Brennert\n",
       "4          5        Alan Moore/David   Lloyd"
      ]
     },
     "execution_count": 5,
     "metadata": {},
     "output_type": "execute_result"
    }
   ],
   "source": [
    "# imprime las primeras filas de la tabla authors\n",
    "\n",
    "query_2 = 'SELECT * FROM authors'\n",
    "books_df = pd.io.sql.read_sql(query_2, con = engine)\n",
    "books_df.head(5)"
   ]
  },
  {
   "cell_type": "code",
   "execution_count": 6,
   "id": "d817a3d1",
   "metadata": {},
   "outputs": [
    {
     "data": {
      "text/html": [
       "<div>\n",
       "<style scoped>\n",
       "    .dataframe tbody tr th:only-of-type {\n",
       "        vertical-align: middle;\n",
       "    }\n",
       "\n",
       "    .dataframe tbody tr th {\n",
       "        vertical-align: top;\n",
       "    }\n",
       "\n",
       "    .dataframe thead th {\n",
       "        text-align: right;\n",
       "    }\n",
       "</style>\n",
       "<table border=\"1\" class=\"dataframe\">\n",
       "  <thead>\n",
       "    <tr style=\"text-align: right;\">\n",
       "      <th></th>\n",
       "      <th>rating_id</th>\n",
       "      <th>book_id</th>\n",
       "      <th>username</th>\n",
       "      <th>rating</th>\n",
       "    </tr>\n",
       "  </thead>\n",
       "  <tbody>\n",
       "    <tr>\n",
       "      <th>0</th>\n",
       "      <td>1</td>\n",
       "      <td>1</td>\n",
       "      <td>ryanfranco</td>\n",
       "      <td>4</td>\n",
       "    </tr>\n",
       "    <tr>\n",
       "      <th>1</th>\n",
       "      <td>2</td>\n",
       "      <td>1</td>\n",
       "      <td>grantpatricia</td>\n",
       "      <td>2</td>\n",
       "    </tr>\n",
       "    <tr>\n",
       "      <th>2</th>\n",
       "      <td>3</td>\n",
       "      <td>1</td>\n",
       "      <td>brandtandrea</td>\n",
       "      <td>5</td>\n",
       "    </tr>\n",
       "    <tr>\n",
       "      <th>3</th>\n",
       "      <td>4</td>\n",
       "      <td>2</td>\n",
       "      <td>lorichen</td>\n",
       "      <td>3</td>\n",
       "    </tr>\n",
       "    <tr>\n",
       "      <th>4</th>\n",
       "      <td>5</td>\n",
       "      <td>2</td>\n",
       "      <td>mariokeller</td>\n",
       "      <td>2</td>\n",
       "    </tr>\n",
       "  </tbody>\n",
       "</table>\n",
       "</div>"
      ],
      "text/plain": [
       "   rating_id  book_id       username  rating\n",
       "0          1        1     ryanfranco       4\n",
       "1          2        1  grantpatricia       2\n",
       "2          3        1   brandtandrea       5\n",
       "3          4        2       lorichen       3\n",
       "4          5        2    mariokeller       2"
      ]
     },
     "execution_count": 6,
     "metadata": {},
     "output_type": "execute_result"
    }
   ],
   "source": [
    "# imprime las primeras filas de la tabla ratings\n",
    "\n",
    "query_3 = 'SELECT * FROM ratings'\n",
    "books_df = pd.io.sql.read_sql(query_3, con = engine)\n",
    "books_df.head(5)"
   ]
  },
  {
   "cell_type": "code",
   "execution_count": 7,
   "id": "6cb65d13",
   "metadata": {},
   "outputs": [
    {
     "data": {
      "text/html": [
       "<div>\n",
       "<style scoped>\n",
       "    .dataframe tbody tr th:only-of-type {\n",
       "        vertical-align: middle;\n",
       "    }\n",
       "\n",
       "    .dataframe tbody tr th {\n",
       "        vertical-align: top;\n",
       "    }\n",
       "\n",
       "    .dataframe thead th {\n",
       "        text-align: right;\n",
       "    }\n",
       "</style>\n",
       "<table border=\"1\" class=\"dataframe\">\n",
       "  <thead>\n",
       "    <tr style=\"text-align: right;\">\n",
       "      <th></th>\n",
       "      <th>review_id</th>\n",
       "      <th>book_id</th>\n",
       "      <th>username</th>\n",
       "      <th>text</th>\n",
       "    </tr>\n",
       "  </thead>\n",
       "  <tbody>\n",
       "    <tr>\n",
       "      <th>0</th>\n",
       "      <td>1</td>\n",
       "      <td>1</td>\n",
       "      <td>brandtandrea</td>\n",
       "      <td>Mention society tell send professor analysis. ...</td>\n",
       "    </tr>\n",
       "    <tr>\n",
       "      <th>1</th>\n",
       "      <td>2</td>\n",
       "      <td>1</td>\n",
       "      <td>ryanfranco</td>\n",
       "      <td>Foot glass pretty audience hit themselves. Amo...</td>\n",
       "    </tr>\n",
       "    <tr>\n",
       "      <th>2</th>\n",
       "      <td>3</td>\n",
       "      <td>2</td>\n",
       "      <td>lorichen</td>\n",
       "      <td>Listen treat keep worry. Miss husband tax but ...</td>\n",
       "    </tr>\n",
       "    <tr>\n",
       "      <th>3</th>\n",
       "      <td>4</td>\n",
       "      <td>3</td>\n",
       "      <td>johnsonamanda</td>\n",
       "      <td>Finally month interesting blue could nature cu...</td>\n",
       "    </tr>\n",
       "    <tr>\n",
       "      <th>4</th>\n",
       "      <td>5</td>\n",
       "      <td>3</td>\n",
       "      <td>scotttamara</td>\n",
       "      <td>Nation purpose heavy give wait song will. List...</td>\n",
       "    </tr>\n",
       "  </tbody>\n",
       "</table>\n",
       "</div>"
      ],
      "text/plain": [
       "   review_id  book_id       username  \\\n",
       "0          1        1   brandtandrea   \n",
       "1          2        1     ryanfranco   \n",
       "2          3        2       lorichen   \n",
       "3          4        3  johnsonamanda   \n",
       "4          5        3    scotttamara   \n",
       "\n",
       "                                                text  \n",
       "0  Mention society tell send professor analysis. ...  \n",
       "1  Foot glass pretty audience hit themselves. Amo...  \n",
       "2  Listen treat keep worry. Miss husband tax but ...  \n",
       "3  Finally month interesting blue could nature cu...  \n",
       "4  Nation purpose heavy give wait song will. List...  "
      ]
     },
     "execution_count": 7,
     "metadata": {},
     "output_type": "execute_result"
    }
   ],
   "source": [
    "# imprime las primeras filas de la tabla reviews\n",
    "\n",
    "query_4 = 'SELECT * FROM reviews'\n",
    "books_df = pd.io.sql.read_sql(query_4, con = engine)\n",
    "books_df.head(5)"
   ]
  },
  {
   "cell_type": "code",
   "execution_count": 8,
   "id": "6ba82935",
   "metadata": {},
   "outputs": [
    {
     "data": {
      "text/html": [
       "<div>\n",
       "<style scoped>\n",
       "    .dataframe tbody tr th:only-of-type {\n",
       "        vertical-align: middle;\n",
       "    }\n",
       "\n",
       "    .dataframe tbody tr th {\n",
       "        vertical-align: top;\n",
       "    }\n",
       "\n",
       "    .dataframe thead th {\n",
       "        text-align: right;\n",
       "    }\n",
       "</style>\n",
       "<table border=\"1\" class=\"dataframe\">\n",
       "  <thead>\n",
       "    <tr style=\"text-align: right;\">\n",
       "      <th></th>\n",
       "      <th>publisher_id</th>\n",
       "      <th>publisher</th>\n",
       "    </tr>\n",
       "  </thead>\n",
       "  <tbody>\n",
       "    <tr>\n",
       "      <th>0</th>\n",
       "      <td>1</td>\n",
       "      <td>Ace</td>\n",
       "    </tr>\n",
       "    <tr>\n",
       "      <th>1</th>\n",
       "      <td>2</td>\n",
       "      <td>Ace Book</td>\n",
       "    </tr>\n",
       "    <tr>\n",
       "      <th>2</th>\n",
       "      <td>3</td>\n",
       "      <td>Ace Books</td>\n",
       "    </tr>\n",
       "    <tr>\n",
       "      <th>3</th>\n",
       "      <td>4</td>\n",
       "      <td>Ace Hardcover</td>\n",
       "    </tr>\n",
       "    <tr>\n",
       "      <th>4</th>\n",
       "      <td>5</td>\n",
       "      <td>Addison Wesley Publishing Company</td>\n",
       "    </tr>\n",
       "  </tbody>\n",
       "</table>\n",
       "</div>"
      ],
      "text/plain": [
       "   publisher_id                          publisher\n",
       "0             1                                Ace\n",
       "1             2                           Ace Book\n",
       "2             3                          Ace Books\n",
       "3             4                      Ace Hardcover\n",
       "4             5  Addison Wesley Publishing Company"
      ]
     },
     "execution_count": 8,
     "metadata": {},
     "output_type": "execute_result"
    }
   ],
   "source": [
    "# imprime las primeras filas de la tabla publishers\n",
    "\n",
    "query_5 = 'SELECT * FROM publishers'\n",
    "books_df = pd.io.sql.read_sql(query_5, con = engine)\n",
    "books_df.head(5)"
   ]
  },
  {
   "cell_type": "markdown",
   "id": "7a72fe27",
   "metadata": {},
   "source": [
    "Hallazgos:\n",
    "    \n",
    "    Las tablas están relacionadas de la siguiente manera: \n",
    "        \n",
    "        - books y authors se relacionan por la clave author_id\n",
    "        - books y publishers se relacionan por la clave publisher_id\n",
    "        - book, reviews, y ratings se relacionan entre sí por la clave book_id"
   ]
  },
  {
   "cell_type": "markdown",
   "id": "ff7ac154",
   "metadata": {},
   "source": [
    "## Consultas en SQL\n",
    "\n",
    "Vamos a realizar cinco consultas de SQL, cada una con una tarea/objetivo puntual."
   ]
  },
  {
   "cell_type": "markdown",
   "id": "4dfd1fdf",
   "metadata": {},
   "source": [
    "### Tarea 1\n",
    "\n",
    "Encuentra el número de libros publicados después del 1 de enero de 2000."
   ]
  },
  {
   "cell_type": "code",
   "execution_count": 53,
   "id": "32a585be",
   "metadata": {},
   "outputs": [
    {
     "name": "stdout",
     "output_type": "stream",
     "text": [
      "Número de libros publicados después del 1 de enero de 2000:\n",
      "    count\n",
      "0    819\n"
     ]
    }
   ],
   "source": [
    "task_1 = \"\"\"\n",
    "\n",
    "SELECT\n",
    "    COUNT(*)\n",
    "FROM\n",
    "    books\n",
    "WHERE\n",
    "    CAST(publication_date AS date) > '2000-01-01'\n",
    "\n",
    "\"\"\"\n",
    "\n",
    "number_books = pd.io.sql.read_sql(task_1, con = engine)\n",
    "print('Número de libros publicados después del 1 de enero de 2000:\\n\\n', number_books)"
   ]
  },
  {
   "cell_type": "markdown",
   "id": "579f269a",
   "metadata": {},
   "source": [
    "### Tarea 2\n",
    "\n",
    "Encuentra el número de reseñas de usuarios y la calificación promedio para cada libro."
   ]
  },
  {
   "cell_type": "code",
   "execution_count": 80,
   "id": "ba530926",
   "metadata": {
    "scrolled": false
   },
   "outputs": [
    {
     "name": "stdout",
     "output_type": "stream",
     "text": [
      "Número de reseñas de usuarios y la calificación promedio para cada libro:\n",
      "\n",
      "     book_id  rating_avg  review_count\n",
      "0       948    3.662500          1120\n",
      "1       750    4.125000           528\n",
      "2       673    3.825581           516\n",
      "3       302    4.414634           492\n",
      "4       299    4.287500           480\n",
      "5        75    3.678571           420\n",
      "6       301    4.186667           375\n",
      "7       779    4.080645           372\n",
      "8        79    3.729730           370\n",
      "9       722    4.391892           370\n",
      "10      300    4.246575           365\n",
      "11      405    3.901408           355\n",
      "12      696    3.830508           354\n",
      "13      627    3.789474           342\n",
      "14      733    3.750000           336\n",
      "15      545    3.787879           330\n",
      "16      656    4.264151           318\n",
      "17      488    3.622951           305\n",
      "18      207    3.395833           288\n",
      "19      963    3.977273           264\n"
     ]
    }
   ],
   "source": [
    "task_2 = \"\"\"\n",
    "\n",
    "SELECT\n",
    "    ratings.book_id AS book_id,\n",
    "    AVG(ratings.rating) AS rating_avg,\n",
    "    COUNT(reviews.review_id) AS review_count\n",
    "FROM\n",
    "    ratings\n",
    "    FULL JOIN reviews \n",
    "    ON (ratings.book_id = reviews.book_id)\n",
    "GROUP BY\n",
    "    ratings.book_id\n",
    "ORDER BY\n",
    "    COUNT(reviews.review_id) DESC\n",
    "\"\"\"\n",
    "\n",
    "number_review_rating_per_book = pd.io.sql.read_sql(task_2, con = engine)\n",
    "print('Número de reseñas de usuarios y la calificación promedio para cada libro:\\n\\n',number_review_rating_per_book.head(20))"
   ]
  },
  {
   "cell_type": "code",
   "execution_count": 81,
   "id": "4c760715",
   "metadata": {},
   "outputs": [
    {
     "name": "stdout",
     "output_type": "stream",
     "text": [
      "Número de reseñas de usuarios y la calificación promedio para cada libro:\n",
      "\n",
      "     book_id  rating_avg  review_count\n",
      "0       518         5.0             4\n",
      "1       732         5.0             4\n",
      "2       347         5.0             6\n",
      "3       610         5.0             4\n",
      "4       330         5.0             2\n",
      "5       229         5.0             4\n",
      "6       275         5.0             4\n",
      "7       553         5.0            12\n",
      "8       213         5.0             4\n",
      "9       993         5.0             4\n",
      "10      972         5.0             4\n",
      "11       57         5.0             4\n",
      "12      224         5.0             4\n",
      "13       17         5.0            16\n",
      "14      902         5.0             4\n",
      "15      459         5.0             4\n",
      "16      297         5.0             4\n",
      "17      182         5.0             4\n",
      "18      136         5.0             4\n",
      "19      418         5.0             4\n"
     ]
    }
   ],
   "source": [
    "# visualizamos el mismo resultado, pero ordenado por las 20 mejores calificaciones\n",
    "\n",
    "task_2_sub_1 = \"\"\"\n",
    "\n",
    "SELECT\n",
    "    ratings.book_id AS book_id,\n",
    "    AVG(ratings.rating) AS rating_avg,\n",
    "    COUNT(reviews.review_id) AS review_count\n",
    "FROM\n",
    "    ratings\n",
    "    FULL JOIN reviews \n",
    "    ON (ratings.book_id = reviews.book_id)\n",
    "GROUP BY\n",
    "    ratings.book_id\n",
    "ORDER BY\n",
    "    AVG(ratings.rating) DESC\n",
    "\"\"\"\n",
    "\n",
    "number_review_rating_per_book_sub_1 = pd.io.sql.read_sql(task_2_sub_1, con = engine)\n",
    "print('Número de reseñas de usuarios y la calificación promedio para cada libro:\\n\\n',number_review_rating_per_book_sub_1.head(20))"
   ]
  },
  {
   "cell_type": "markdown",
   "id": "0d9205b1",
   "metadata": {},
   "source": [
    "### Tarea 3\n",
    "\n",
    "Identifica la editorial que ha publicado el mayor número de libros con más de 50 páginas (esto te ayudará a excluir folletos y publicaciones similares de tu análisis)"
   ]
  },
  {
   "cell_type": "code",
   "execution_count": 87,
   "id": "a6c41f4b",
   "metadata": {
    "scrolled": false
   },
   "outputs": [
    {
     "name": "stdout",
     "output_type": "stream",
     "text": [
      "Editoriales con mayor número de libros publicados.\n",
      "Libros con más de 50 páginas:\n",
      "\n",
      "                     publisher  published_books\n",
      "0               Penguin Books               42\n",
      "1                     Vintage               31\n",
      "2    Grand Central Publishing               25\n",
      "3            Penguin Classics               24\n",
      "4            Ballantine Books               19\n",
      "5                      Bantam               19\n",
      "6                     Berkley               17\n",
      "7          St. Martin's Press               14\n",
      "8               Berkley Books               14\n",
      "9                       Delta               13\n",
      "10  William Morrow Paperbacks               13\n",
      "11           Harper Perennial               12\n",
      "12              HarperCollins               12\n",
      "13  Little  Brown and Company               12\n",
      "14                  Tor Books               11\n",
      "15             Back Bay Books               11\n",
      "16                    Penguin               10\n",
      "17                     Signet               10\n",
      "18                    Vertigo               10\n",
      "19                HarperTorch               10\n"
     ]
    }
   ],
   "source": [
    "task_3 = \"\"\"\n",
    "\n",
    "SELECT\n",
    "    publishers.publisher AS publisher,\n",
    "    COUNT(books.book_id) AS published_books\n",
    "FROM\n",
    "    books\n",
    "    FULL JOIN publishers \n",
    "    ON (books.publisher_id = publishers.publisher_id)\n",
    "WHERE\n",
    "    books.num_pages > 50\n",
    "GROUP BY\n",
    "    publishers.publisher\n",
    "ORDER BY\n",
    "    published_books DESC\n",
    "\"\"\"\n",
    "\n",
    "top_publishes_fifty_pages = pd.io.sql.read_sql(task_3, con = engine)\n",
    "print('Editoriales con mayor número de libros publicados,\\nLibros con más de 50 páginas:\\n\\n',top_publishes_fifty_pages.head(20))"
   ]
  },
  {
   "cell_type": "markdown",
   "id": "0ed4a9f4",
   "metadata": {},
   "source": [
    "### Tarea 4\n",
    "\n",
    "Identifica al autor que tiene la más alta calificación promedio del libro: mira solo los libros con al menos 50 calificaciones."
   ]
  },
  {
   "cell_type": "code",
   "execution_count": 90,
   "id": "35a4472f",
   "metadata": {
    "scrolled": false
   },
   "outputs": [
    {
     "name": "stdout",
     "output_type": "stream",
     "text": [
      "Autores con las más altas calificaciones promedio de libros\n",
      "\n",
      "                               author  total_ratings  rating_avg\n",
      "0         J.K. Rowling/Mary GrandPré            312    4.288462\n",
      "1                    Agatha Christie             53    4.283019\n",
      "2  Markus Zusak/Cao Xuân Việt Khương             53    4.264151\n",
      "3                     J.R.R. Tolkien            166    4.240964\n",
      "4           Roald Dahl/Quentin Blake             62    4.209677\n",
      "5                  Louisa May Alcott             54    4.203704\n",
      "6                       Rick Riordan             84    4.130952\n",
      "7                      Arthur Golden             56    4.107143\n",
      "8                       Stephen King            106    4.009434\n",
      "9                       John Grisham             70    3.971429\n"
     ]
    }
   ],
   "source": [
    "task_4 = \"\"\"\n",
    "\n",
    "SELECT\n",
    "    authors.author AS author,\n",
    "    COUNT(ratings.rating_id) AS total_ratings,\n",
    "    AVG(ratings.rating) AS rating_avg\n",
    "    \n",
    "FROM\n",
    "    authors FULL JOIN books ON authors.author_id = books.author_id\n",
    "    FULL JOIN ratings ON ratings.book_id = books.book_id \n",
    "GROUP BY\n",
    "    authors.author\n",
    "HAVING\n",
    "    COUNT(ratings.rating_id) > 50\n",
    "ORDER BY\n",
    "    rating_avg DESC\n",
    "\n",
    "    \n",
    "\"\"\"\n",
    "\n",
    "top_authors_best_rating = pd.io.sql.read_sql(task_4, con = engine)\n",
    "print('Autores con las más altas calificaciones promedio de libros\\n\\n',top_authors_best_rating.head(10))"
   ]
  },
  {
   "cell_type": "markdown",
   "id": "bcee2291",
   "metadata": {},
   "source": [
    "### Tarea 5\n",
    "\n",
    "Encuentra el número promedio de reseñas de texto entre los usuarios que calificaron más de 50 libros."
   ]
  },
  {
   "cell_type": "code",
   "execution_count": 95,
   "id": "9a32466f",
   "metadata": {},
   "outputs": [
    {
     "name": "stdout",
     "output_type": "stream",
     "text": [
      "Número de reseñas de texto realizadas por usuarios que calificaron más de 50 libros:\n",
      "\n",
      "           username  total_books_reviewed  total_books_rated\n",
      "0        zjohnston                   199                199\n",
      "1          jnelson                   302                302\n",
      "2     lewisdesiree                   172                172\n",
      "3    patrickhudson                   141                141\n",
      "4     valenciaanne                   293                293\n",
      "5      kristykirby                   315                315\n",
      "6      conradanita                    91                 91\n",
      "7     martinyvonne                   208                208\n",
      "8        patrick05                   169                169\n",
      "9      lunakathryn                   132                132\n",
      "10     robertwells                   106                106\n",
      "11   serranoangela                   115                115\n",
      "12       emcdaniel                    82                 82\n",
      "13      annawarner                   185                185\n",
      "14         kevin78                   125                125\n",
      "15        walter49                   135                135\n",
      "16      kevinquinn                   269                269\n",
      "17     carlsondean                   166                166\n",
      "18          eallen                   289                289\n",
      "19  carolrodriguez                   181                181\n"
     ]
    }
   ],
   "source": [
    "task_5 = \"\"\"\n",
    "\n",
    "SELECT\n",
    "    reviews.username AS username,\n",
    "    COUNT(reviews.review_id) AS total_books_reviewed,\n",
    "    COUNT(ratings.rating_id) AS total_books_rated\n",
    "FROM\n",
    "    reviews INNER JOIN ratings ON reviews.book_id = ratings.book_id\n",
    "GROUP BY\n",
    "    reviews.username\n",
    "HAVING\n",
    "    COUNT(ratings.rating_id) > 50\n",
    "\n",
    "\"\"\"\n",
    "\n",
    "avg_review_count = pd.io.sql.read_sql(task_5, con = engine)\n",
    "print('Número de reseñas de texto realizadas por usuarios que calificaron más de 50 libros:\\n\\n',avg_review_count.head(20))"
   ]
  },
  {
   "cell_type": "code",
   "execution_count": 96,
   "id": "1805199e",
   "metadata": {},
   "outputs": [
    {
     "name": "stdout",
     "output_type": "stream",
     "text": [
      "Promedio de número de reseñas de texto realizadas por usuarios que calificaron más de 50 libros:\n",
      "\n",
      "    average_of_reviews\n",
      "0          166.679487\n"
     ]
    }
   ],
   "source": [
    "# Encontramos el promedio de la cantidad de reseñas que hacen los usuarios\n",
    "\n",
    "task_5_sub_1 = \"\"\"\n",
    "\n",
    "SELECT\n",
    "    AVG(SUBQUERY.total_books_reviewed) AS average_of_reviews\n",
    "FROM\n",
    "    (SELECT\n",
    "        reviews.username AS username,\n",
    "        COUNT(reviews.review_id) AS total_books_reviewed,\n",
    "        COUNT(ratings.rating_id) AS total_books_rated\n",
    "    FROM\n",
    "        reviews FULL JOIN ratings ON reviews.book_id = ratings.book_id\n",
    "    GROUP BY\n",
    "        reviews.username\n",
    "    HAVING\n",
    "        COUNT(ratings.rating_id) > 50) AS SUBQUERY\n",
    "\n",
    "\"\"\"\n",
    "\n",
    "avg_review_count_sub_1 = pd.io.sql.read_sql(task_5_sub_1, con = engine)\n",
    "print('Promedio de número de reseñas de texto realizadas por usuarios que calificaron más de 50 libros:\\n\\n',avg_review_count_sub_1.head(20))"
   ]
  },
  {
   "cell_type": "markdown",
   "id": "1708ffdb",
   "metadata": {},
   "source": [
    "## Conclusiones\n",
    "\n",
    "**Resumen de hallazgos:**\n",
    "\n",
    "   - Tarea 1: Después del 1 de enero de 2000, se han publicado 819 libros según nuestra base de datos. \n",
    "\n",
    "   - Tarea 2: Los 20 libros con mayor cantidad de reseñas, tienen calificaciones que van desde 3.3 hasta 4.4. Al mismo tiempo, los libros con mejores calificaciones (de 5.0), suelen tener menos de 10 reseñas. \n",
    "\n",
    "   - Tarea 3: Las tres editoriales con mayor número de libros publicados son Penguin Books, Vintage y Grand Central Publishing. \n",
    "\n",
    "   - Tarea 4: Los cinco autores con las más altas calificaciones en promedio son `J.K. Rowling/Mary GrandPré`  `Agatha Christie` `Markus Zusak/Cao Xuân Việt Khương` `J.R.R. Tolkien` `Roald Dahl/Quentin Blake` \n",
    "\n",
    "   - Tarea 5:  El numero de reseñas que hace un usuario parece coincidir con el numero de calificaciones que realiza. En promedio, entre los usuarios que realizan más de 50 reseñas, los usuarios realizando 166.6 reseñas.\n",
    "\n",
    "**Propuesta de valor:**\n",
    "\n",
    "Podemos decir que sí vale la pena desarrollar aplicaciones para los amantes de la lectura. Los usuarios son activos a la hora de proporcionar calificaciones y reseñas. Podemos sugerir contactar las editoriales Penguin Books, Vintage y Grand Central Publishing por nuevos lanzamientos, y también ofrecer los clásicos de los autores `J.K. Rowling/Mary GrandPré`  `Agatha Christie` `Markus Zusak/Cao Xuân Việt Khương` `J.R.R. Tolkien` `Roald Dahl/Quentin Blake.`\n"
   ]
  },
  {
   "cell_type": "code",
   "execution_count": null,
   "id": "202091e6",
   "metadata": {},
   "outputs": [],
   "source": []
  }
 ],
 "metadata": {
  "kernelspec": {
   "display_name": "Python 3 (ipykernel)",
   "language": "python",
   "name": "python3"
  },
  "language_info": {
   "codemirror_mode": {
    "name": "ipython",
    "version": 3
   },
   "file_extension": ".py",
   "mimetype": "text/x-python",
   "name": "python",
   "nbconvert_exporter": "python",
   "pygments_lexer": "ipython3",
   "version": "3.10.4"
  },
  "toc": {
   "base_numbering": 1,
   "nav_menu": {},
   "number_sections": true,
   "sideBar": true,
   "skip_h1_title": true,
   "title_cell": "Table of Contents",
   "title_sidebar": "Contents",
   "toc_cell": false,
   "toc_position": {},
   "toc_section_display": true,
   "toc_window_display": false
  }
 },
 "nbformat": 4,
 "nbformat_minor": 5
}
